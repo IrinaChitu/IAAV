{
  "nbformat": 4,
  "nbformat_minor": 0,
  "metadata": {
    "colab": {
      "name": "Lab03.ipynb",
      "provenance": [],
      "collapsed_sections": []
    },
    "kernelspec": {
      "name": "python3",
      "display_name": "Python 3"
    },
    "widgets": {
      "application/vnd.jupyter.widget-state+json": {
        "a7dd0770ba3d49069e0ab745f26dcef5": {
          "model_module": "@jupyter-widgets/controls",
          "model_name": "HBoxModel",
          "state": {
            "_view_name": "HBoxView",
            "_dom_classes": [],
            "_model_name": "HBoxModel",
            "_view_module": "@jupyter-widgets/controls",
            "_model_module_version": "1.5.0",
            "_view_count": null,
            "_view_module_version": "1.5.0",
            "box_style": "",
            "layout": "IPY_MODEL_9a6941d1112c41b28a2cc376f2dc0fbb",
            "_model_module": "@jupyter-widgets/controls",
            "children": [
              "IPY_MODEL_14ed1df7d22b4667897bfbbc8d44a8cb",
              "IPY_MODEL_080409b8ea884fd293fdf4ac1132502a"
            ]
          }
        },
        "9a6941d1112c41b28a2cc376f2dc0fbb": {
          "model_module": "@jupyter-widgets/base",
          "model_name": "LayoutModel",
          "state": {
            "_view_name": "LayoutView",
            "grid_template_rows": null,
            "right": null,
            "justify_content": null,
            "_view_module": "@jupyter-widgets/base",
            "overflow": null,
            "_model_module_version": "1.2.0",
            "_view_count": null,
            "flex_flow": null,
            "width": null,
            "min_width": null,
            "border": null,
            "align_items": null,
            "bottom": null,
            "_model_module": "@jupyter-widgets/base",
            "top": null,
            "grid_column": null,
            "overflow_y": null,
            "overflow_x": null,
            "grid_auto_flow": null,
            "grid_area": null,
            "grid_template_columns": null,
            "flex": null,
            "_model_name": "LayoutModel",
            "justify_items": null,
            "grid_row": null,
            "max_height": null,
            "align_content": null,
            "visibility": null,
            "align_self": null,
            "height": null,
            "min_height": null,
            "padding": null,
            "grid_auto_rows": null,
            "grid_gap": null,
            "max_width": null,
            "order": null,
            "_view_module_version": "1.2.0",
            "grid_template_areas": null,
            "object_position": null,
            "object_fit": null,
            "grid_auto_columns": null,
            "margin": null,
            "display": null,
            "left": null
          }
        },
        "14ed1df7d22b4667897bfbbc8d44a8cb": {
          "model_module": "@jupyter-widgets/controls",
          "model_name": "IntProgressModel",
          "state": {
            "_view_name": "ProgressView",
            "style": "IPY_MODEL_56d01bcf5b7047b986518f410e48a557",
            "_dom_classes": [],
            "description": "",
            "_model_name": "IntProgressModel",
            "bar_style": "info",
            "max": 1,
            "_view_module": "@jupyter-widgets/controls",
            "_model_module_version": "1.5.0",
            "value": 1,
            "_view_count": null,
            "_view_module_version": "1.5.0",
            "orientation": "horizontal",
            "min": 0,
            "description_tooltip": null,
            "_model_module": "@jupyter-widgets/controls",
            "layout": "IPY_MODEL_ca96fc30f1f7450296fd44cfe5008ef4"
          }
        },
        "080409b8ea884fd293fdf4ac1132502a": {
          "model_module": "@jupyter-widgets/controls",
          "model_name": "HTMLModel",
          "state": {
            "_view_name": "HTMLView",
            "style": "IPY_MODEL_c520bf98cd5347cf98703bc9e4bc0ad8",
            "_dom_classes": [],
            "description": "",
            "_model_name": "HTMLModel",
            "placeholder": "​",
            "_view_module": "@jupyter-widgets/controls",
            "_model_module_version": "1.5.0",
            "value": " 170500096/? [00:20&lt;00:00, 52940183.30it/s]",
            "_view_count": null,
            "_view_module_version": "1.5.0",
            "description_tooltip": null,
            "_model_module": "@jupyter-widgets/controls",
            "layout": "IPY_MODEL_ef9362e5fbba439d8d21d6de0f906f1a"
          }
        },
        "56d01bcf5b7047b986518f410e48a557": {
          "model_module": "@jupyter-widgets/controls",
          "model_name": "ProgressStyleModel",
          "state": {
            "_view_name": "StyleView",
            "_model_name": "ProgressStyleModel",
            "description_width": "initial",
            "_view_module": "@jupyter-widgets/base",
            "_model_module_version": "1.5.0",
            "_view_count": null,
            "_view_module_version": "1.2.0",
            "bar_color": null,
            "_model_module": "@jupyter-widgets/controls"
          }
        },
        "ca96fc30f1f7450296fd44cfe5008ef4": {
          "model_module": "@jupyter-widgets/base",
          "model_name": "LayoutModel",
          "state": {
            "_view_name": "LayoutView",
            "grid_template_rows": null,
            "right": null,
            "justify_content": null,
            "_view_module": "@jupyter-widgets/base",
            "overflow": null,
            "_model_module_version": "1.2.0",
            "_view_count": null,
            "flex_flow": null,
            "width": null,
            "min_width": null,
            "border": null,
            "align_items": null,
            "bottom": null,
            "_model_module": "@jupyter-widgets/base",
            "top": null,
            "grid_column": null,
            "overflow_y": null,
            "overflow_x": null,
            "grid_auto_flow": null,
            "grid_area": null,
            "grid_template_columns": null,
            "flex": null,
            "_model_name": "LayoutModel",
            "justify_items": null,
            "grid_row": null,
            "max_height": null,
            "align_content": null,
            "visibility": null,
            "align_self": null,
            "height": null,
            "min_height": null,
            "padding": null,
            "grid_auto_rows": null,
            "grid_gap": null,
            "max_width": null,
            "order": null,
            "_view_module_version": "1.2.0",
            "grid_template_areas": null,
            "object_position": null,
            "object_fit": null,
            "grid_auto_columns": null,
            "margin": null,
            "display": null,
            "left": null
          }
        },
        "c520bf98cd5347cf98703bc9e4bc0ad8": {
          "model_module": "@jupyter-widgets/controls",
          "model_name": "DescriptionStyleModel",
          "state": {
            "_view_name": "StyleView",
            "_model_name": "DescriptionStyleModel",
            "description_width": "",
            "_view_module": "@jupyter-widgets/base",
            "_model_module_version": "1.5.0",
            "_view_count": null,
            "_view_module_version": "1.2.0",
            "_model_module": "@jupyter-widgets/controls"
          }
        },
        "ef9362e5fbba439d8d21d6de0f906f1a": {
          "model_module": "@jupyter-widgets/base",
          "model_name": "LayoutModel",
          "state": {
            "_view_name": "LayoutView",
            "grid_template_rows": null,
            "right": null,
            "justify_content": null,
            "_view_module": "@jupyter-widgets/base",
            "overflow": null,
            "_model_module_version": "1.2.0",
            "_view_count": null,
            "flex_flow": null,
            "width": null,
            "min_width": null,
            "border": null,
            "align_items": null,
            "bottom": null,
            "_model_module": "@jupyter-widgets/base",
            "top": null,
            "grid_column": null,
            "overflow_y": null,
            "overflow_x": null,
            "grid_auto_flow": null,
            "grid_area": null,
            "grid_template_columns": null,
            "flex": null,
            "_model_name": "LayoutModel",
            "justify_items": null,
            "grid_row": null,
            "max_height": null,
            "align_content": null,
            "visibility": null,
            "align_self": null,
            "height": null,
            "min_height": null,
            "padding": null,
            "grid_auto_rows": null,
            "grid_gap": null,
            "max_width": null,
            "order": null,
            "_view_module_version": "1.2.0",
            "grid_template_areas": null,
            "object_position": null,
            "object_fit": null,
            "grid_auto_columns": null,
            "margin": null,
            "display": null,
            "left": null
          }
        }
      }
    }
  },
  "cells": [
    {
      "cell_type": "markdown",
      "metadata": {
        "id": "ZpoTZudv_LK5",
        "colab_type": "text"
      },
      "source": [
        "## Straturi Noi\n",
        "\n",
        "In continuare o sa utilizam o parte din straturile prezentate in curs.\n",
        "\n",
        "Staturi noi:\n",
        "\n",
        "Layer Convolutional:\n",
        "* torch.nn.Conv2d(in_channels, out_channels, kernel_size, stride=1, padding=0)\n",
        "\n",
        "Layere Pooling:\n",
        "* torch.nn.MaxPool2d(kernel_size, stride=None, padding=0)\n",
        "* torch.nn.AveragePool2d(kernel_size, stride=None, padding=0)\n",
        "\n",
        "Layere Adaptive Pool, intalnit adesea si ca Global Pool:\n",
        "* torch.nn.AdaptiveAvgPool2d(output_size)\n",
        "* torch.nn.AdaptiveMaxPool2d(output_size)\n",
        "\n",
        "Layer de liniarizare:\n",
        "\n",
        "* torch.nn.Flatten()\n",
        "\n"
      ]
    },
    {
      "cell_type": "code",
      "metadata": {
        "id": "5HWqK9mqHxgB",
        "colab_type": "code",
        "outputId": "ebd2e5ef-0b3f-4e37-d526-c579aa88952a",
        "colab": {
          "base_uri": "https://localhost:8080/",
          "height": 110
        }
      },
      "source": [
        "import numpy as np\n",
        "import torch.nn as nn\n",
        "import torch\n",
        "\n",
        "dummy_input_tensor = torch.rand((1,3,100,100))  # Input random de marime 100x100 cu 3 canale\n",
        "\n",
        "layer = nn.Conv2d(3,10,(3,3),(2,2))\n",
        "print(\"Conv1 result shape\",layer(dummy_input_tensor).shape)\n",
        "\n",
        "layer = nn.Conv2d(3,10,(13,13),(2,2))\n",
        "print(\"Conv2 result shape\",layer(dummy_input_tensor).shape)\n",
        "\n",
        "layer = nn.MaxPool2d((3,3)) # Stride este inferat din kernel size, ca fiind egal cu kernel size ca sa nu repete elementele luate\n",
        "print(\"Pool result shape\",layer(dummy_input_tensor).shape)\n",
        "\n",
        "# Utilizate pentru a reduce dimensiunea la una prestabilita, util cand marimea input ului este variabil\n",
        "layer = nn.AdaptiveAvgPool2d((5,5))\n",
        "print(\"Global Pool result shape\",layer(dummy_input_tensor).shape)\n",
        "\n",
        "layer = nn.Flatten()\n",
        "print(\"Flaten result shape\",layer(dummy_input_tensor).shape)"
      ],
      "execution_count": 0,
      "outputs": [
        {
          "output_type": "stream",
          "text": [
            "Conv1 result shape torch.Size([1, 10, 49, 49])\n",
            "Conv2 result shape torch.Size([1, 10, 44, 44])\n",
            "Pool result shape torch.Size([1, 3, 33, 33])\n",
            "Global Pool result shape torch.Size([1, 3, 5, 5])\n",
            "Flaten result shape torch.Size([1, 30000])\n"
          ],
          "name": "stdout"
        }
      ]
    },
    {
      "cell_type": "markdown",
      "metadata": {
        "id": "GOTmqyCxJ3fk",
        "colab_type": "text"
      },
      "source": [
        "###Cerinte\n",
        "\n",
        "Utilizati o serie de Conv2D/Pool2D pentru a ajunge la urmatoarele marimi plecand de la input 3x100x100:\n",
        "*   [1, 10, 24, 24]\n",
        "*   [1, 10, 9, 9]\n",
        "*  [1, 3, 2, 2]\n",
        "\n"
      ]
    },
    {
      "cell_type": "code",
      "metadata": {
        "id": "7HtEeXbeKeKu",
        "colab_type": "code",
        "outputId": "8461a915-aefa-4fbf-b36d-31206cce4160",
        "colab": {
          "base_uri": "https://localhost:8080/",
          "height": 73
        }
      },
      "source": [
        "# https://towardsdatascience.com/types-of-convolutions-in-deep-learning-717013397f4d\n",
        "\n",
        "# kerne_size = dim umbra\n",
        "# stride = dim pas tranzitie ( 1 => sare cate o casuta, dar si linie)\n",
        "# padding = dist intre patratelele din umbra\n",
        "\n",
        "import numpy as np\n",
        "import torch.nn as nn\n",
        "import torch\n",
        "\n",
        "dummy_input_tensor = torch.rand((1,3,100,100))  # Input random de marime 100x100 cu 3 canale\n",
        "\n",
        "layer1 = nn.Conv2d(3,10,(7,7),(4,4)) # [1, 10, 24, 24]\n",
        "print(\"Conv1 result shape\",layer1(dummy_input_tensor).shape)\n",
        "\n",
        "layer2 = nn.Conv2d(3,10,(3,3),(11,11)) # [1, 10, 9, 9]\n",
        "print(\"Conv1 result shape\",layer2(dummy_input_tensor).shape)\n",
        "\n",
        "layer3 = nn.AdaptiveAvgPool2d((2,2)) # [1, 3, 2, 2]\n",
        "print(\"Global Pool result shape\",layer3(dummy_input_tensor).shape)\n",
        "\n",
        "# https://pytorch.org/docs/stable/nn.html#conv2d\n",
        "# https://pytorch.org/docs/stable/nn.html#maxpool2d"
      ],
      "execution_count": 0,
      "outputs": [
        {
          "output_type": "stream",
          "text": [
            "Conv1 result shape torch.Size([1, 10, 24, 24])\n",
            "Conv1 result shape torch.Size([1, 10, 9, 9])\n",
            "Global Pool result shape torch.Size([1, 3, 2, 2])\n"
          ],
          "name": "stdout"
        }
      ]
    },
    {
      "cell_type": "markdown",
      "metadata": {
        "id": "yvdPtetggm61",
        "colab_type": "text"
      },
      "source": [
        "## Instantierea seturilor de date"
      ]
    },
    {
      "cell_type": "code",
      "metadata": {
        "id": "czyIhYt5gmUQ",
        "colab_type": "code",
        "outputId": "dfc44b84-b05b-44f9-9d94-06a2df08aa0c",
        "colab": {
          "base_uri": "https://localhost:8080/",
          "height": 86,
          "referenced_widgets": [
            "a7dd0770ba3d49069e0ab745f26dcef5",
            "9a6941d1112c41b28a2cc376f2dc0fbb",
            "14ed1df7d22b4667897bfbbc8d44a8cb",
            "080409b8ea884fd293fdf4ac1132502a",
            "56d01bcf5b7047b986518f410e48a557",
            "ca96fc30f1f7450296fd44cfe5008ef4",
            "c520bf98cd5347cf98703bc9e4bc0ad8",
            "ef9362e5fbba439d8d21d6de0f906f1a"
          ]
        }
      },
      "source": [
        "import torchvision\n",
        "\n",
        "cifar_train = torchvision.datasets.CIFAR10(\"./data\", download=True)\n",
        "cifar_test = torchvision.datasets.CIFAR10(\"./data\", train=False)"
      ],
      "execution_count": 0,
      "outputs": [
        {
          "output_type": "stream",
          "text": [
            "Downloading https://www.cs.toronto.edu/~kriz/cifar-10-python.tar.gz to ./data/cifar-10-python.tar.gz\n"
          ],
          "name": "stdout"
        },
        {
          "output_type": "display_data",
          "data": {
            "application/vnd.jupyter.widget-view+json": {
              "model_id": "a7dd0770ba3d49069e0ab745f26dcef5",
              "version_minor": 0,
              "version_major": 2
            },
            "text/plain": [
              "HBox(children=(IntProgress(value=1, bar_style='info', max=1), HTML(value='')))"
            ]
          },
          "metadata": {
            "tags": []
          }
        },
        {
          "output_type": "stream",
          "text": [
            "Extracting ./data/cifar-10-python.tar.gz to ./data\n"
          ],
          "name": "stdout"
        }
      ]
    },
    {
      "cell_type": "markdown",
      "metadata": {
        "id": "FOA4ted_hHdB",
        "colab_type": "text"
      },
      "source": [
        "## Crearea Dataloader-ului\n",
        "\n",
        "### Cerinte\n",
        " * Implementati functia de preprocesare a datelor, __preproc_fn(examples)__.\n",
        "\n",
        "\n",
        "Atentie! Spre deosebire de intrarea pentru retelele fully-connected, pentru retelele convolutionale intrearea nu trebuie liniarizata, ci doar normalizata.\n",
        "\n",
        "#### Hint\n",
        "\n",
        "  * Amintiti-va folosirea functiei __normalize__ din torchvision.transforms.functional din laboratorul trecut."
      ]
    },
    {
      "cell_type": "code",
      "metadata": {
        "id": "uGHfd229hRyR",
        "colab_type": "code",
        "colab": {}
      },
      "source": [
        "import torch\n",
        "import numpy as np\n",
        "import torch.utils.data as data\n",
        "from torchvision.transforms.functional import to_tensor, normalize\n",
        "\n",
        "def preproc_fn(examples):\n",
        "  ### Completati codul pentru cerinta aici\n",
        "  processed_images = []\n",
        "  processed_labels = []\n",
        "\n",
        "  for example in examples:\n",
        "    tensor_image = to_tensor(example[0])\n",
        "    # In linia de mai jos imaginea este normalizata astfel incat sa aiba toate valorile in \n",
        "    # [-1, 1] in loc de [0, 255]\n",
        "    normalized_tensor_image = normalize(tensor_image, [0.5, 0.5, 0.5], [0.5, 0.5, 0.5])\n",
        "    vector_image = normalized_tensor_image.unsqueeze(0)\n",
        "    processed_images.append(vector_image)\n",
        "    \n",
        "    label = np.array(example[1])\n",
        "    tensor_label = torch.tensor(label)\n",
        "    tensor_label = tensor_label.unsqueeze(0)\n",
        "    processed_labels.append(tensor_label)\n",
        "\n",
        "  torch_images = torch.cat(processed_images, dim=0)\n",
        "  torch_labels = torch.cat(processed_labels, dim=0)\n",
        "\n",
        "  return torch_images, torch_labels\n",
        "\n",
        "train_loader = data.DataLoader(cifar_train, batch_size=500, shuffle=True, num_workers=2, collate_fn=preproc_fn)\n",
        "test_loader = data.DataLoader(cifar_test, batch_size=1, shuffle=False, collate_fn=preproc_fn)"
      ],
      "execution_count": 0,
      "outputs": []
    },
    {
      "cell_type": "markdown",
      "metadata": {
        "id": "cnV6PIC1kQMi",
        "colab_type": "text"
      },
      "source": [
        "## Crearea unei retele neurale convolutionale\n",
        "\n",
        "### Cerinte\n",
        " * Creati o clasa ce mosteneste din clasa nn.Module ce reprezinta o retea neurala convolutionala pentru clasificare pe 10 clase pe datasetul CIFAR10.\n",
        "    * Reteaua trebuie sa aiba 2 straturi convolutionale care sa reduca dimensiunea spatiala a imaginii de 2 ori\n",
        "    * Liniarizati iesirea din cel de-al doilea strat convolutional pentru a \n",
        "    * Stratul final trebuie sa fie un strat 'fully-connected'\n",
        "    * Folositi o functie de activare la alegere\n",
        "\n",
        "#### Hint\n",
        "\n",
        "Pentru a liniariza iesirea din cel de-al doilea feature map puteti adopta mai multe strategii:\n",
        "  * Liniarizare prin schimbarea shape-ului la [batch_size, -1]\n",
        "  * Global Max Pooling si apoi liniarizare la [batch_size, -1]\n",
        "  * Average Max Pooling si apoi liniarizare la [batch_size, -1]"
      ]
    },
    {
      "cell_type": "code",
      "metadata": {
        "id": "u1Ddc7D-lAEN",
        "colab_type": "code",
        "colab": {}
      },
      "source": [
        "import torch.nn as nn\n",
        "\n",
        "class Net(nn.Module):\n",
        "  def __init__(self):\n",
        "    super(Net,self).__init__()\n",
        "\n",
        "    self.conv_layer1 = nn.Conv2d(3,3,(6,6))\n",
        "    self.conv_layer2 = nn.Conv2d(3,3,(2,2),padding=3)\n",
        "    self.pool = nn.MaxPool2d((2,2))\n",
        "    self.linear1 = nn.Linear(3*16*16,100)\n",
        "    self.activation = nn.ReLU()\n",
        "    self.linear2 = nn.Linear(100,10)\n",
        "\n",
        "  def forward(self,x):\n",
        "    x = self.conv_layer1(x)\n",
        "    x = self.conv_layer2(x)\n",
        "    x = self.pool(x)\n",
        "    x = x.view(x.shape[0],-1)\n",
        "    x = self.activation(self.linear2(self.activation(self.linear1(x))))\n",
        "    return x"
      ],
      "execution_count": 0,
      "outputs": []
    },
    {
      "cell_type": "markdown",
      "metadata": {
        "id": "wK0Z9NeYTghv",
        "colab_type": "text"
      },
      "source": [
        "## Definirea obiectelor folosite in timpul antrenarii\n",
        "\n",
        "### Cerinte\n",
        "  * Numarul de epoci\n",
        "  * Retea\n",
        "  * Optimizator"
      ]
    },
    {
      "cell_type": "code",
      "metadata": {
        "id": "Az3WKQdpod34",
        "colab_type": "code",
        "colab": {}
      },
      "source": [
        "import torch.optim as optim\n",
        "\n",
        "# Definiti numarul de epoci\n",
        "epochs = 10\n",
        "\n",
        "# Definiti reteaua\n",
        "network = Net()\n",
        "\n",
        "# Definiti optimizatorul\n",
        "optimizer = optim.Adam(network.parameters(),lr=1e-3)\n",
        "\n",
        "# Dupa definirea optimizatorului si dupa fiecare iteratie trebuie apelata functia zero_grad().\n",
        "# Aceasta face toti gradientii zero.\n",
        "# Completati codul pentru a face gradientii zero aici\n",
        "optimizer.zero_grad()\n",
        "\n",
        "\n",
        "# Definiti functia cost pentru clasificare Cross-Entropy\n",
        "loss_fn = nn.CrossEntropyLoss()"
      ],
      "execution_count": 0,
      "outputs": []
    },
    {
      "cell_type": "markdown",
      "metadata": {
        "id": "GAnUsWYWodb4",
        "colab_type": "text"
      },
      "source": [
        "## Definirea functiei de antrenare"
      ]
    },
    {
      "cell_type": "code",
      "metadata": {
        "id": "K9MTYanoMZ8H",
        "colab_type": "code",
        "colab": {}
      },
      "source": [
        "def train_fn(epochs: int, train_loader: data.DataLoader, test_loader: data.DataLoader, \n",
        "             net: nn.Module, loss_fn: nn.Module, optimizer: optim.Optimizer):\n",
        "  # Iteram prin numarul de epoci\n",
        "  for e in range(epochs):\n",
        "    # Iteram prin fiecare exemplu din dataset\n",
        "    for images, labels in train_loader:\n",
        "\n",
        "      # Aplicam reteaua neurala pe imaginile de intrare\n",
        "      out = net(images)\n",
        "      # Aplicam functia cost pe iesirea retelei neurale si pe adnotarile imaginilor \n",
        "      loss = loss_fn(out, labels)\n",
        "      # Aplicam algoritmul de back-propagation\n",
        "      loss.backward()\n",
        "      # Facem pasul de optimizare, pentru a aplica gradientii pe parametrii retelei\n",
        "      optimizer.step()\n",
        "      # Apelam functia zero_grad() pentru a uita gradientii de la iteratie curenta\n",
        "      optimizer.zero_grad()\n",
        "    \n",
        "    print(\"Loss-ul la finalul epocii {} are valoarea {}\".format(e, loss.item()))\n",
        "\n",
        "    # Calculul acuratetii\n",
        "    count = len(test_loader)\n",
        "    correct = 0\n",
        "\n",
        "    for test_image, test_label in test_loader:\n",
        "      out_class = torch.argmax(net(test_image))\n",
        "      if out_class == test_label:\n",
        "        correct += 1\n",
        "\n",
        "    print(\"Acuratetea la finalul epocii {} este {:.2f}%\".format(e, (correct / count) * 100))"
      ],
      "execution_count": 0,
      "outputs": []
    },
    {
      "cell_type": "markdown",
      "metadata": {
        "id": "OWvb00A-TkJq",
        "colab_type": "text"
      },
      "source": [
        "## Antrenarea\n",
        "\n",
        "### Cerinte\n",
        "  * Antrenati prima retea\n",
        "  * Modificati celula de mai sus pentru a antrena LeNet si rulati din nou celula\n",
        "  * Antrenati reteaua LeNet"
      ]
    },
    {
      "cell_type": "code",
      "metadata": {
        "id": "ZqUwOWmDMpqQ",
        "colab_type": "code",
        "outputId": "4e0d2a51-4c0c-4a5f-b196-cc77e504888c",
        "colab": {
          "base_uri": "https://localhost:8080/",
          "height": 391
        }
      },
      "source": [
        "train_fn(epochs, train_loader, test_loader, network, loss_fn, optimizer)"
      ],
      "execution_count": 0,
      "outputs": [
        {
          "output_type": "stream",
          "text": [
            "Loss-ul la finalul epocii 0 are valoarea 1.9488651752471924\n",
            "Acuratetea la finalul epocii 0 este 38.03%\n",
            "Loss-ul la finalul epocii 1 are valoarea 1.6794464588165283\n",
            "Acuratetea la finalul epocii 1 este 43.11%\n",
            "Loss-ul la finalul epocii 2 are valoarea 1.5824429988861084\n",
            "Acuratetea la finalul epocii 2 este 46.22%\n",
            "Loss-ul la finalul epocii 3 are valoarea 1.5552605390548706\n",
            "Acuratetea la finalul epocii 3 este 47.09%\n",
            "Loss-ul la finalul epocii 4 are valoarea 1.4732308387756348\n",
            "Acuratetea la finalul epocii 4 este 47.66%\n",
            "Loss-ul la finalul epocii 5 are valoarea 1.4518003463745117\n",
            "Acuratetea la finalul epocii 5 este 47.89%\n",
            "Loss-ul la finalul epocii 6 are valoarea 1.4558188915252686\n",
            "Acuratetea la finalul epocii 6 este 49.41%\n",
            "Loss-ul la finalul epocii 7 are valoarea 1.432271957397461\n",
            "Acuratetea la finalul epocii 7 este 49.67%\n",
            "Loss-ul la finalul epocii 8 are valoarea 1.3424851894378662\n",
            "Acuratetea la finalul epocii 8 este 49.83%\n",
            "Loss-ul la finalul epocii 9 are valoarea 1.3386147022247314\n",
            "Acuratetea la finalul epocii 9 este 50.23%\n"
          ],
          "name": "stdout"
        }
      ]
    },
    {
      "cell_type": "markdown",
      "metadata": {
        "id": "zmVavwztTZkz",
        "colab_type": "text"
      },
      "source": [
        "## Reteaua LeNet\n",
        "\n",
        "### Cerinte\n",
        "  * Implementati reteaua LeNet dupa figura de mai jos\n",
        "\n",
        "\n",
        "![alt text](https://drive.google.com/uc?id=1OVancUyIViMRMZdULFSVCvXJHQP0NGUV)\n"
      ]
    },
    {
      "cell_type": "code",
      "metadata": {
        "id": "zoe1vbggO-4U",
        "colab_type": "code",
        "colab": {}
      },
      "source": [
        "# INPUT => CONV => RELU => POOL => CONV => RELU => POOL => FC => RELU => FC\n",
        "import torch.nn as nn\n",
        "\n",
        "class LeNet(nn.Module):\n",
        "  def __init__(self):\n",
        "    super(LeNet, self).__init__()\n",
        "    self.conv1 = nn.Conv2d(3, 6, (5,5))\n",
        "    self.conv2 = nn.Conv2d(6,16,(5,5))\n",
        "    self.linear1 = nn.Linear(16*5*5, 120)\n",
        "    self.linear2 = nn.Linear(120, 84)\n",
        "    self.pooling = nn.MaxPool2d((2,2))\n",
        "    self.activation=nn.ReLU()\n",
        "\n",
        "  def forward(self,x):\n",
        "    x = self.conv1(x)\n",
        "    x = self.activation(x)\n",
        "    x = self.pooling(x)\n",
        "    x = self.conv2(x)\n",
        "    x = self.activation(x)\n",
        "    x = self.pooling(x)\n",
        "\n",
        "    x = x.view(x.shape[0], -1)\n",
        "    x = self.linear1(x)\n",
        "    x = self.activation(x)\n",
        "    x = self.linear2(x)\n",
        "\n",
        "    return x"
      ],
      "execution_count": 0,
      "outputs": []
    },
    {
      "cell_type": "markdown",
      "metadata": {
        "id": "J0XPmGrEol9M",
        "colab_type": "text"
      },
      "source": [
        "## Redefinirea obiectelor folosite in timpul antrenarii pentru reteaua LeNet\n",
        "\n",
        "### Cerinta\n",
        " * Redefiniti obiectele pentru a antrena reteaua LeNet"
      ]
    },
    {
      "cell_type": "code",
      "metadata": {
        "id": "jhqNoDmQo66c",
        "colab_type": "code",
        "colab": {}
      },
      "source": [
        "import torch.optim as optim\n",
        "\n",
        "# Definiti numarul de epoci\n",
        "epochs = 20\n",
        "\n",
        "# Definiti reteaua\n",
        "lenet = LeNet()\n",
        "\n",
        "# Definiti optimizatorul\n",
        "lenet_optimizer = optim.SGD(lenet.parameters(), lr=0.001)\n",
        "\n",
        "# Dupa definirea optimizatorului si dupa fiecare iteratie trebuie apelata functia zero_grad().\n",
        "# Aceasta face toti gradientii zero.\n",
        "# Completati codul pentru a face gradientii zero aici\n",
        "lenet_optimizer.zero_grad()\n",
        "\n",
        "# Definiti functia cost pentru clasificare Cross-Entropy\n",
        "loss_fn = nn.CrossEntropyLoss()"
      ],
      "execution_count": 0,
      "outputs": []
    },
    {
      "cell_type": "markdown",
      "metadata": {
        "id": "hwIQwUQpo_eR",
        "colab_type": "text"
      },
      "source": [
        "## Antrenarea retelei LeNet"
      ]
    },
    {
      "cell_type": "code",
      "metadata": {
        "id": "UUl8W42do_sL",
        "colab_type": "code",
        "outputId": "0699dafa-fa22-4ed3-df32-bf54f8ad76f6",
        "colab": {
          "base_uri": "https://localhost:8080/",
          "height": 764
        }
      },
      "source": [
        "train_fn(epochs, train_loader, test_loader, lenet, loss_fn, lenet_optimizer)"
      ],
      "execution_count": 0,
      "outputs": [
        {
          "output_type": "stream",
          "text": [
            "Loss-ul la finalul epocii 0 are valoarea 4.4111456871032715\n",
            "Acuratetea la finalul epocii 0 este 0.65%\n",
            "Loss-ul la finalul epocii 1 are valoarea 4.393129348754883\n",
            "Acuratetea la finalul epocii 1 este 3.96%\n",
            "Loss-ul la finalul epocii 2 are valoarea 4.372461318969727\n",
            "Acuratetea la finalul epocii 2 este 8.04%\n",
            "Loss-ul la finalul epocii 3 are valoarea 4.346150875091553\n",
            "Acuratetea la finalul epocii 3 este 8.66%\n",
            "Loss-ul la finalul epocii 4 are valoarea 4.315252304077148\n",
            "Acuratetea la finalul epocii 4 este 8.99%\n",
            "Loss-ul la finalul epocii 5 are valoarea 4.265673637390137\n",
            "Acuratetea la finalul epocii 5 este 10.10%\n",
            "Loss-ul la finalul epocii 6 are valoarea 4.194132328033447\n",
            "Acuratetea la finalul epocii 6 este 12.46%\n",
            "Loss-ul la finalul epocii 7 are valoarea 4.024998664855957\n",
            "Acuratetea la finalul epocii 7 este 11.25%\n",
            "Loss-ul la finalul epocii 8 are valoarea 3.6066970825195312\n",
            "Acuratetea la finalul epocii 8 este 10.02%\n",
            "Loss-ul la finalul epocii 9 are valoarea 2.8639261722564697\n",
            "Acuratetea la finalul epocii 9 este 10.00%\n",
            "Loss-ul la finalul epocii 10 are valoarea 2.4387736320495605\n",
            "Acuratetea la finalul epocii 10 este 16.72%\n",
            "Loss-ul la finalul epocii 11 are valoarea 2.350684642791748\n",
            "Acuratetea la finalul epocii 11 este 17.31%\n",
            "Loss-ul la finalul epocii 12 are valoarea 2.288198947906494\n",
            "Acuratetea la finalul epocii 12 este 17.88%\n",
            "Loss-ul la finalul epocii 13 are valoarea 2.2714831829071045\n",
            "Acuratetea la finalul epocii 13 este 19.48%\n",
            "Loss-ul la finalul epocii 14 are valoarea 2.2371714115142822\n",
            "Acuratetea la finalul epocii 14 este 20.39%\n",
            "Loss-ul la finalul epocii 15 are valoarea 2.2006113529205322\n",
            "Acuratetea la finalul epocii 15 este 21.09%\n",
            "Loss-ul la finalul epocii 16 are valoarea 2.1772890090942383\n",
            "Acuratetea la finalul epocii 16 este 21.74%\n",
            "Loss-ul la finalul epocii 17 are valoarea 2.1692898273468018\n",
            "Acuratetea la finalul epocii 17 este 22.70%\n",
            "Loss-ul la finalul epocii 18 are valoarea 2.1427628993988037\n",
            "Acuratetea la finalul epocii 18 este 24.01%\n",
            "Loss-ul la finalul epocii 19 are valoarea 2.154590129852295\n",
            "Acuratetea la finalul epocii 19 este 23.17%\n"
          ],
          "name": "stdout"
        }
      ]
    },
    {
      "cell_type": "markdown",
      "metadata": {
        "id": "OspDtfFnTodr",
        "colab_type": "text"
      },
      "source": [
        "###Augmentare retea\n",
        "\n",
        "Reteaua de mai devreme duce lipsa de regularizare. O forma foarte puternica de regularizare este normalizarea, iar pentru acest lucru exista straturi speciale.\n",
        "\n",
        "Astfel de straturi:\n",
        "\n",
        "* torch.nn.BatchNorm2d(num_features)\n",
        "* torch.nn.InstanceNorm2d(num_features)\n",
        "\n",
        "Un alt element important il reprezinta functiile de activare, care pot influenta convergenta si puterea retelei. Cateva exemple de functii de activate:\n",
        "\n",
        "\n",
        "\n",
        "* Relu\n",
        "* Sigmoid\n",
        "* Tanh\n",
        "* LeakyRelu\n",
        "* GELU\n",
        "\n",
        "## Cerinta\n",
        "\n",
        "Experimentati cu aceste elemente in cadrul retelei LeNet definita mai devreme. Observati viteza de convergenta si performanta retelei pentru 3 configuratii diferite.\n",
        "\n",
        "\n",
        "\n",
        "  \n"
      ]
    }
  ]
}