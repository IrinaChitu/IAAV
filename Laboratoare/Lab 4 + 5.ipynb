{
  "nbformat": 4,
  "nbformat_minor": 0,
  "metadata": {
    "colab": {
      "name": "Lab04+05.ipynb",
      "provenance": [],
      "collapsed_sections": []
    },
    "kernelspec": {
      "name": "python3",
      "display_name": "Python 3"
    }
  },
  "cells": [
    {
      "cell_type": "markdown",
      "metadata": {
        "id": "2u0yZqFCyVwy",
        "colab_type": "text"
      },
      "source": [
        "#Laborator 4\n",
        "\n",
        "In cadrul acestui laborator o sa lucram cu blocurile de baza necesare construirii unor retele mai complexe. De interes sunt:\n",
        "\n",
        "\n",
        "*   Residual Blocks\n",
        "*   Inception Blocks\n",
        "\n",
        "Pe langa acestea, o sa aplicam si augmentari generale de date care au rolul de a face modelul robust la variatii mici. \n",
        "\n"
      ]
    },
    {
      "cell_type": "markdown",
      "metadata": {
        "id": "ZpoTZudv_LK5",
        "colab_type": "text"
      },
      "source": [
        "## Operatii Noi\n",
        "\n",
        "Urmatoarele operatii vor fi folosite in cadrul laboratorului\n",
        "\n",
        "Tensor shape: (batch,channels,dim1,dim2)\n",
        "\n",
        "\n",
        "*  **torch.cat(tensors, dim=0).** Tensorii trebuie sa aiba aceleasi dim1,dim2, dar channels poate sa difere.\n",
        "*  **torch.add(input, other)**. Tensorii trebuie sa aiba aceleasi dimensiune pe toate axele.\n",
        "\n",
        "\n",
        "\n"
      ]
    },
    {
      "cell_type": "code",
      "metadata": {
        "id": "5HWqK9mqHxgB",
        "colab_type": "code",
        "outputId": "4ad6ab7b-a201-48d1-8bbf-e7d85e9c681d",
        "colab": {
          "base_uri": "https://localhost:8080/",
          "height": 54
        }
      },
      "source": [
        "import numpy as np\n",
        "import torch.nn as nn\n",
        "import torch\n",
        "\n",
        "dummy_input_tensor1 = torch.rand((1,3,100,100))  # Input random de marime 100x100 cu 3 canale\n",
        "dummy_input_tensor2 = torch.rand((1,5,100,100))  # Input random de marime 100x100 cu 5 canale\n",
        "\n",
        "# Normal se concateneaza pe dimensiunea canalelor.\n",
        "x = torch.cat([dummy_input_tensor1,dummy_input_tensor2],dim=1) \n",
        "print(x.shape) # Numarul de canele_output = canale_input2 + canale_input1\n",
        "\n",
        "dummy_input_tensor1 = torch.rand((1,3,100,100))  # Input random de marime 100x100 cu 3 canale\n",
        "dummy_input_tensor2 = torch.rand((1,3,100,100))  # Input random de marime 100x100 cu 3 canale\n",
        "\n",
        "x = torch.add(dummy_input_tensor1,dummy_input_tensor2)\n",
        "print(x.shape) "
      ],
      "execution_count": 0,
      "outputs": [
        {
          "output_type": "stream",
          "text": [
            "torch.Size([1, 8, 100, 100])\n",
            "torch.Size([1, 3, 100, 100])\n"
          ],
          "name": "stdout"
        }
      ]
    },
    {
      "cell_type": "markdown",
      "metadata": {
        "id": "GOTmqyCxJ3fk",
        "colab_type": "text"
      },
      "source": [
        "##Residual Block\n",
        "\n",
        "In cadrul Resnet se utilizeaza residual connections / skip connections, care impreuna cu un path normal, ca cele implementate pana acum, formeaza un residual block. \n",
        "\n",
        "![resnetBlock](https://drive.google.com/uc?id=1fa4uuMBY4qmDbk4Tanu3CT-1E4nYq_He)\n",
        "\n",
        "###Cerinte\n",
        "\n",
        "Implementati ResidualBlock. Acesta duce input tensor in ($c_{input}$,width,height) in  ($c_{out}$,width,height) sau  ($c_{out}$,width/2,height/2) in functie de stride.\n",
        "\n",
        "\n"
      ]
    },
    {
      "cell_type": "code",
      "metadata": {
        "id": "7HtEeXbeKeKu",
        "colab_type": "code",
        "outputId": "9b864733-10e5-4046-f4f9-cf323e30f3e7",
        "colab": {
          "base_uri": "https://localhost:8080/",
          "height": 35
        }
      },
      "source": [
        "import numpy as np\n",
        "import torch.nn as nn\n",
        "import torch\n",
        "import torch.nn.functional as F\n",
        "\n",
        "class ResidualBlock(nn.Module):\n",
        "  def __init__(self,input_channels=32,hidden_channels=64,output_channels=64,kernel_size=3,stride=1,activation=nn.ReLU()):\n",
        "    super(ResidualBlock,self).__init__()\n",
        "    \n",
        "    layers = []\n",
        "\n",
        "    # Your code here\n",
        "    # layers.append: Conv2d => activation ReLU => Conv2d\n",
        "    layers.append(nn.Conv2d(input_channels, hidden_channels, kernel_size, stride, padding=18))\n",
        "    layers.append(activation)\n",
        "    layers.append(nn.Conv2d(hidden_channels, output_channels, kernel_size, stride, padding=17))\n",
        "\n",
        "    self.net_normal = nn.Sequential(*layers) # =>must also return torch.Size([1, 128, 50, 50])\n",
        "\n",
        "    self.net_residual = nn.Conv2d(input_channels,output_channels,1,stride) # => torch.Size([1, 128, 50, 50])\n",
        "\n",
        "  def forward(self,x):\n",
        "    x1 = self.net_normal(x)\n",
        "    # print(x1.shape)\n",
        "    x2 =self.net_residual(x)\n",
        "    # print(x2.shape)\n",
        "    x = torch.cat([x1,x2],1)\n",
        "    x = F.relu(x)\n",
        "    return x\n",
        "\n",
        "block = ResidualBlock(3,64,128,3,2,nn.ReLU()) # input = 3 || hidden = 64 || out = 128 || kernel_size = 3 || stride = 2 || activation = ReLu\n",
        "x = torch.rand(size=(1,3,100,100))\n",
        "# print(x.shape)\n",
        "\n",
        "# Should output torch.Size([1, 256, 50, 50])\n",
        "print(block(x).shape)"
      ],
      "execution_count": 0,
      "outputs": [
        {
          "output_type": "stream",
          "text": [
            "torch.Size([1, 256, 50, 50])\n"
          ],
          "name": "stdout"
        }
      ]
    },
    {
      "cell_type": "markdown",
      "metadata": {
        "id": "iBxjKYB5YZjE",
        "colab_type": "text"
      },
      "source": [
        "##Inception Block\n",
        "\n",
        "In cadrul GoogleNet/InceptionNet este folosit Inception Block, care este alcatuit din mai multe miniretele putin diferite, care se unesc la finalul Inception Block\n",
        "\n",
        "### Cerinta\n",
        "\n",
        "Implementati Inception Block. Acesta trebuie sa duca un Tensor ($ch_{input}$,w,h) in ($ch_{out}$,w/2,h/2)\n",
        "\n",
        "![InceptionBlock](https://drive.google.com/uc?id=1OOLqfHZSIdQp6xO1T8cUpgjmfkMgGDuU)"
      ]
    },
    {
      "cell_type": "code",
      "metadata": {
        "id": "4BpNBz0ZbB1l",
        "colab_type": "code",
        "outputId": "619b3ad3-5265-4438-d3e2-6896afc1192e",
        "colab": {
          "base_uri": "https://localhost:8080/",
          "height": 35
        }
      },
      "source": [
        "# https://pytorch.org/docs/stable/nn.html -> Hout & Wout formulae\n",
        "\n",
        "# Layers: \n",
        "# Conv2d - changes dim + choose output_channels\n",
        "# BatchNorm2d - !changes dim\n",
        "# activation - !changes dim\n",
        "# MaxPool2d- changes dim\n",
        "\n",
        "import numpy as np\n",
        "import torch.nn as nn\n",
        "import torch\n",
        "import torch.nn.functional as F\n",
        "\n",
        "\n",
        "class InceptionBlock(nn.Module):\n",
        "  def __init__(self,input_channels=32,kernel_size=3,stride=1,activation=nn.ReLU()):\n",
        "    super(InceptionBlock,self).__init__()\n",
        "\n",
        "    layers = []\n",
        "       # Your code here\n",
        "    layers.append(nn.Conv2d(input_channels, input_channels//4, kernel_size, stride, padding = 50))\n",
        "    layers.append(nn.BatchNorm2d(input_channels//4))\n",
        "    layers.append(activation)\n",
        "\n",
        "    layers.append(nn.Conv2d(input_channels//4, input_channels//2, kernel_size, stride, padding = 50))\n",
        "    layers.append(nn.BatchNorm2d(input_channels//2))\n",
        "    layers.append(activation)\n",
        "\n",
        "    layers.append(nn.Conv2d(input_channels//2, input_channels//2, kernel_size, stride, padding = 1))\n",
        "    layers.append(nn.BatchNorm2d(input_channels//2))\n",
        "    layers.append(activation)\n",
        "\n",
        "    self.path1 = nn.Sequential(*layers)\n",
        "\n",
        "    layers = []\n",
        "       # Your code here\n",
        "    layers.append(nn.Conv2d(input_channels, input_channels//4, kernel_size, stride, padding = 18))\n",
        "    layers.append(nn.BatchNorm2d(input_channels//4))\n",
        "    layers.append(activation)\n",
        "\n",
        "    layers.append(nn.Conv2d(input_channels//4, input_channels//2, kernel_size, stride, padding = 17))\n",
        "    layers.append(nn.BatchNorm2d(input_channels//2))\n",
        "    layers.append(activation)\n",
        "\n",
        "    self.path2 = nn.Sequential(*layers)\n",
        "\n",
        "    layers = []\n",
        "       # Your code here\n",
        "    layer = nn.MaxPool2d(kernel_size, stride, padding=1) \n",
        "    layers.append(nn.Conv2d(input_channels, input_channels//2, kernel_size, stride, padding = 1))\n",
        "    layers.append(nn.BatchNorm2d(input_channels//2))\n",
        "    layers.append(activation)\n",
        "\n",
        "    self.path3 = nn.Sequential(*layers)\n",
        "\n",
        "    layers = []\n",
        "       # Your code here\n",
        "    layers.append(nn.Conv2d(input_channels, input_channels//2, kernel_size, stride, padding = 1))\n",
        "    layers.append(nn.BatchNorm2d(input_channels//2))\n",
        "    layers.append(activation)\n",
        "\n",
        "    self.path4 = nn.Sequential(*layers)\n",
        "\n",
        "\n",
        "  def forward(self,x):\n",
        "    x1 = self.path1(x)\n",
        "    # print(x1.shape)\n",
        "    x2 =self.path2(x)\n",
        "    # print(x2.shape)\n",
        "    x3 =self.path3(x)\n",
        "    # print(x3.shape)\n",
        "    x4 =self.path4(x)\n",
        "    # print(x4.shape)\n",
        "    x = torch.cat([x1,x2,x3,x4],1)\n",
        "    return x\n",
        "\n",
        "\n",
        "\n",
        "block = InceptionBlock(64,3,2,nn.ReLU())\n",
        "x = torch.rand(size=(1,64,100,100))\n",
        "# Should output torch.Size([1, 128, 50, 50])\n",
        "print(block(x).shape)"
      ],
      "execution_count": 0,
      "outputs": [
        {
          "output_type": "stream",
          "text": [
            "torch.Size([1, 128, 50, 50])\n"
          ],
          "name": "stdout"
        }
      ]
    },
    {
      "cell_type": "markdown",
      "metadata": {
        "id": "2mxlO1xxrmuq",
        "colab_type": "text"
      },
      "source": [
        "###Cerinta\n",
        "\n",
        "Construiti o retea, utilizand blocurile scrise mai sus care sa duca un input de la (1,3,128,128) in (1,$channels_{out}$)."
      ]
    },
    {
      "cell_type": "markdown",
      "metadata": {
        "id": "yvdPtetggm61",
        "colab_type": "text"
      },
      "source": [
        "## Instantierea seturilor de date\n",
        "\n",
        "In acest laborator lucram cu un nou set de date. Este vorba de un subset al faimosului ImageNet, pisicile din ImageNet. ImageNet este utilizat pentru clasificare in mod normal, dar [acest concurs](https://www.kaggle.com/c/imagenet-object-localization-challenge) l-a adnotat pentru clasificare si localizare. Urmeaza 2 blocuri de download si dezarhivare date."
      ]
    },
    {
      "cell_type": "code",
      "metadata": {
        "id": "czyIhYt5gmUQ",
        "colab_type": "code",
        "outputId": "1bfc62c6-f1ca-4192-ef12-3b6fce504bc3",
        "colab": {
          "base_uri": "https://localhost:8080/",
          "height": 478
        }
      },
      "source": [
        "!wget --load-cookies /tmp/cookies.txt \"https://docs.google.com/uc?export=download&confirm=$(wget --quiet --save-cookies /tmp/cookies.txt --keep-session-cookies --no-check-certificate 'https://docs.google.com/uc?export=download&id=18t4uPwAZ_5a6P9srPGY-VHmgDkUbCPCI' -O- | sed -rn 's/.*confirm=([0-9A-Za-z_]+).*/\\1\\n/p')&id=18t4uPwAZ_5a6P9srPGY-VHmgDkUbCPCI\" -O CatsImageNet.tar.xz && rm -rf /tmp/cookies.txt"
      ],
      "execution_count": 0,
      "outputs": [
        {
          "output_type": "stream",
          "text": [
            "--2020-05-02 20:39:01--  https://docs.google.com/uc?export=download&confirm=k6YH&id=18t4uPwAZ_5a6P9srPGY-VHmgDkUbCPCI\n",
            "Resolving docs.google.com (docs.google.com)... 108.177.111.138, 108.177.111.113, 108.177.111.101, ...\n",
            "Connecting to docs.google.com (docs.google.com)|108.177.111.138|:443... connected.\n",
            "HTTP request sent, awaiting response... 302 Moved Temporarily\n",
            "Location: https://doc-14-5g-docs.googleusercontent.com/docs/securesc/7f09380ogq9h3hboqkjguh6ghe1nbhgu/gdeqf2ihhnqetdu7ur7qh3qq24i23el7/1588451925000/02831014641652451217/10803903338540888896Z/18t4uPwAZ_5a6P9srPGY-VHmgDkUbCPCI?e=download [following]\n",
            "--2020-05-02 20:39:01--  https://doc-14-5g-docs.googleusercontent.com/docs/securesc/7f09380ogq9h3hboqkjguh6ghe1nbhgu/gdeqf2ihhnqetdu7ur7qh3qq24i23el7/1588451925000/02831014641652451217/10803903338540888896Z/18t4uPwAZ_5a6P9srPGY-VHmgDkUbCPCI?e=download\n",
            "Resolving doc-14-5g-docs.googleusercontent.com (doc-14-5g-docs.googleusercontent.com)... 108.177.111.132, 2607:f8b0:4001:c07::84\n",
            "Connecting to doc-14-5g-docs.googleusercontent.com (doc-14-5g-docs.googleusercontent.com)|108.177.111.132|:443... connected.\n",
            "HTTP request sent, awaiting response... 302 Found\n",
            "Location: https://docs.google.com/nonceSigner?nonce=eqnfdu77kqufg&continue=https://doc-14-5g-docs.googleusercontent.com/docs/securesc/7f09380ogq9h3hboqkjguh6ghe1nbhgu/gdeqf2ihhnqetdu7ur7qh3qq24i23el7/1588451925000/02831014641652451217/10803903338540888896Z/18t4uPwAZ_5a6P9srPGY-VHmgDkUbCPCI?e%3Ddownload&hash=gq63ckc75mu567bn4qfhvliv95gh2rhh [following]\n",
            "--2020-05-02 20:39:01--  https://docs.google.com/nonceSigner?nonce=eqnfdu77kqufg&continue=https://doc-14-5g-docs.googleusercontent.com/docs/securesc/7f09380ogq9h3hboqkjguh6ghe1nbhgu/gdeqf2ihhnqetdu7ur7qh3qq24i23el7/1588451925000/02831014641652451217/10803903338540888896Z/18t4uPwAZ_5a6P9srPGY-VHmgDkUbCPCI?e%3Ddownload&hash=gq63ckc75mu567bn4qfhvliv95gh2rhh\n",
            "Connecting to docs.google.com (docs.google.com)|108.177.111.138|:443... connected.\n",
            "HTTP request sent, awaiting response... 302 Found\n",
            "Location: https://doc-14-5g-docs.googleusercontent.com/docs/securesc/7f09380ogq9h3hboqkjguh6ghe1nbhgu/gdeqf2ihhnqetdu7ur7qh3qq24i23el7/1588451925000/02831014641652451217/10803903338540888896Z/18t4uPwAZ_5a6P9srPGY-VHmgDkUbCPCI?e=download&nonce=eqnfdu77kqufg&user=10803903338540888896Z&hash=kjv5ln2ko4oqqvpkv0os84fhjpumv59q [following]\n",
            "--2020-05-02 20:39:01--  https://doc-14-5g-docs.googleusercontent.com/docs/securesc/7f09380ogq9h3hboqkjguh6ghe1nbhgu/gdeqf2ihhnqetdu7ur7qh3qq24i23el7/1588451925000/02831014641652451217/10803903338540888896Z/18t4uPwAZ_5a6P9srPGY-VHmgDkUbCPCI?e=download&nonce=eqnfdu77kqufg&user=10803903338540888896Z&hash=kjv5ln2ko4oqqvpkv0os84fhjpumv59q\n",
            "Connecting to doc-14-5g-docs.googleusercontent.com (doc-14-5g-docs.googleusercontent.com)|108.177.111.132|:443... connected.\n",
            "HTTP request sent, awaiting response... 200 OK\n",
            "Length: unspecified [application/x-xz]\n",
            "Saving to: ‘CatsImageNet.tar.xz’\n",
            "\n",
            "CatsImageNet.tar.xz     [          <=>       ] 235.63M   112MB/s    in 2.1s    \n",
            "\n",
            "2020-05-02 20:39:04 (112 MB/s) - ‘CatsImageNet.tar.xz’ saved [247077056]\n",
            "\n"
          ],
          "name": "stdout"
        }
      ]
    },
    {
      "cell_type": "code",
      "metadata": {
        "id": "9BVgY9gr2sbr",
        "colab_type": "code",
        "outputId": "d27a51ff-1a88-4472-8c1b-07a91d27c556",
        "colab": {
          "base_uri": "https://localhost:8080/",
          "height": 54
        }
      },
      "source": [
        "!tar xf CatsImageNet.tar.xz\n",
        "!ls"
      ],
      "execution_count": 0,
      "outputs": [
        {
          "output_type": "stream",
          "text": [
            "CatsImageNet.tar.xz  n02123045\tn02123394  n02124075\n",
            "dataset.csv\t     n02123159\tn02123597  sample_data\n"
          ],
          "name": "stdout"
        }
      ]
    },
    {
      "cell_type": "markdown",
      "metadata": {
        "id": "FOA4ted_hHdB",
        "colab_type": "text"
      },
      "source": [
        "## Crearea Dataloader-ului\n",
        "\n",
        "In continuare, pentru a incarca date, sa o folosim un obiect mai complex, un Torch.utils.data.Dataset. Acesta are 3 functii importante:\n",
        "\n",
        "\n",
        "*   __init__()\n",
        "*   ____len____()\n",
        "*  ____get_item____()\n",
        "\n"
      ]
    },
    {
      "cell_type": "code",
      "metadata": {
        "id": "9Vhpi3uC55N6",
        "colab_type": "code",
        "colab": {}
      },
      "source": [
        "import torch as t\n",
        "from PIL import Image\n",
        "import numpy as np\n",
        "from torch.utils.data import Dataset, DataLoader\n",
        "from torchvision.transforms.functional import to_tensor, normalize\n",
        "import random\n",
        "random.seed(42)\n",
        "\n",
        "import matplotlib.pyplot as plt\n",
        "import matplotlib.patches as patches\n",
        "\n",
        "class CatsDataset(Dataset):\n",
        "    def __init__(self, dataset_lines, width=128, height=128):\n",
        "        \"\"\"\n",
        "        Args:\n",
        "            dataset_lines (array): array of strings of form \"{image_path}|{rectangle_coordinates}\".\n",
        "            width (int): target image width.\n",
        "            height (int): target image height.\n",
        "        \"\"\"\n",
        "        self.imgs_paths = [ln.split(\"|\")[0] + \".JPEG\" for ln in dataset_lines]\n",
        "        self.points = [list(map(int, ln.split(\"|\")[-1].split(\" \")))\n",
        "                        for ln in dataset_lines]\n",
        "        self.img_size = (width, height)\n",
        "\n",
        "    def __len__(self):\n",
        "        return len(self.imgs_paths)\n",
        "\n",
        "    def __getitem__(self, idx):\n",
        "        img = Image.open(self.imgs_paths[idx])\n",
        "\n",
        "        original_width, original_height = img.size\n",
        "\n",
        "        img = img.resize(self.img_size)\n",
        "        img = np.array(img)\n",
        "\n",
        "        if len(img.shape) == 2:\n",
        "          img = np.expand_dims(img, axis=2)\n",
        "          img = np.repeat(img, 3, axis=2)\n",
        "\n",
        "        x1, y1, x2, y2 = self.points[idx]\n",
        "\n",
        "        x1 = x1 / original_width * self.img_size[0]\n",
        "        x2 = x2 / original_width * self.img_size[0]\n",
        "        y1 = y1 / original_height * self.img_size[1]\n",
        "        y2 = y2 / original_height * self.img_size[1]\n",
        "\n",
        "        coordinates = np.array([x1, y1, x2, y2])\n",
        "\n",
        "        return img, coordinates\n",
        "\n"
      ],
      "execution_count": 0,
      "outputs": []
    },
    {
      "cell_type": "markdown",
      "metadata": {
        "id": "RkijQD0uK85D",
        "colab_type": "text"
      },
      "source": [
        "Construire Dataset si vizualizare date."
      ]
    },
    {
      "cell_type": "code",
      "metadata": {
        "id": "uGHfd229hRyR",
        "colab_type": "code",
        "outputId": "1f9ce6a5-adfa-4a9c-b892-90c28a20734f",
        "colab": {
          "base_uri": "https://localhost:8080/",
          "height": 268
        }
      },
      "source": [
        "from IPython.display import clear_output\n",
        "import time\n",
        "\n",
        "train_test_proportion = .85\n",
        "\n",
        "samples = [ln.strip() for ln in open(\"./dataset.csv\")]\n",
        "random.shuffle(samples)\n",
        "train_samples = samples[:int(train_test_proportion*len(samples))]\n",
        "test_samples = samples[int(train_test_proportion*len(samples)):]\n",
        "\n",
        "cats_train = CatsDataset(train_samples)\n",
        "cats_test = CatsDataset(test_samples)\n",
        "train_loader = DataLoader(cats_train, batch_size=16, shuffle=True, num_workers=4)\n",
        "test_loader = DataLoader(cats_test, batch_size=16, shuffle=False, num_workers=4)\n",
        "\n",
        "see_examples = 10\n",
        "for i, (imgs, coordinates) in enumerate(train_loader):\n",
        "    clear_output(wait=True)\n",
        "    plt.imshow(imgs[0])\n",
        "\n",
        "    x1, y1, x2, y2 = coordinates[0]\n",
        "    rect = patches.Rectangle((x1,y1),x2-x1+1,y2-y1+1,linewidth=1,edgecolor='r',facecolor='none')\n",
        "    plt.gca().add_patch(rect)\n",
        "    plt.show()\n",
        "\n",
        "    if i >= see_examples - 1:\n",
        "      break\n",
        "    time.sleep(1)\n"
      ],
      "execution_count": 0,
      "outputs": [
        {
          "output_type": "display_data",
          "data": {
            "image/png": "[encoded data removed]",
            "text/plain": [
              "<Figure size 432x288 with 1 Axes>"
            ]
          },
          "metadata": {
            "tags": [],
            "needs_background": "light"
          }
        }
      ]
    },
    {
      "cell_type": "markdown",
      "metadata": {
        "id": "cnV6PIC1kQMi",
        "colab_type": "text"
      },
      "source": [
        "## Crearea unei retele neurale convolutionale\n",
        "\n",
        "### Cerinte\n",
        " * Creati o clasa ce mosteneste din clasa nn.Module ce reprezinta o retea neurala convolutionala pentru regresie de 4 coordonate pe datasetul ImageNet Cats.\n",
        "\n",
        "\n",
        "#### Hint\n",
        "\n",
        "Pentru a liniariza iesirea din cel de-al doilea feature map puteti adopta mai multe strategii:\n",
        "  * Liniarizare prin schimbarea shape-ului la [batch_size, -1]\n",
        "  * Global Max Pooling si apoi liniarizare la [batch_size, -1]\n",
        "  * Average Max Pooling si apoi liniarizare la [batch_size, -1]\n",
        "  \n",
        "La final trebuie utilziata o functie de activare care acopera [0,$\\infty$)"
      ]
    },
    {
      "cell_type": "code",
      "metadata": {
        "id": "u1Ddc7D-lAEN",
        "colab_type": "code",
        "colab": {}
      },
      "source": [
        "import torch.nn as nn\n",
        "\n",
        "class Net(nn.Module):\n",
        "\n",
        "     # Your code here\n",
        "  def __init__(self, in_channels=32, out_channels=64, kernel_size=3, stride=2, activation = nn.ReLU()):\n",
        "    super(Net, self).__init__()\n",
        "\n",
        "    layers = []\n",
        "    layers.append(\"some layers here\")\n",
        "    self.net = nn.Sequential(*layers)\n",
        "\n",
        "    self.activation = activation\n",
        "\n",
        "  def forward(self,x):\n",
        "     # Your code here\n",
        "\n",
        "    x = x.view(x.shape[0],-1) # Liniarizare prin schimbarea shape-ului la [batch_size, -1]\n",
        "    x = self.activation(x) # La final trebuie utilziata o functie de activare care acopera [0,infinit)\n",
        "    \n",
        "    return self.net(x)"
      ],
      "execution_count": 0,
      "outputs": []
    },
    {
      "cell_type": "markdown",
      "metadata": {
        "id": "wK0Z9NeYTghv",
        "colab_type": "text"
      },
      "source": [
        "## Definirea obiectelor folosite in timpul antrenarii\n",
        "\n",
        "### Cerinte\n",
        "  * Numarul de epoci\n",
        "  * Retea\n",
        "  * Optimizator"
      ]
    },
    {
      "cell_type": "code",
      "metadata": {
        "id": "Az3WKQdpod34",
        "colab_type": "code",
        "colab": {}
      },
      "source": [
        "import torch.optim as optim\n",
        "\n",
        "# Definiti numarul de epoci\n",
        "epochs = 10\n",
        "\n",
        "# Definiti reteaua\n",
        "network = Net()\n",
        "\n",
        "# Definiti optimizatorul\n",
        "optimizer = optim.Adam(network.parameters(),lr=1e-3)\n",
        "\n",
        "# Dupa definirea optimizatorului si dupa fiecare iteratie trebuie apelata functia zero_grad().\n",
        "# Aceasta face toti gradientii zero.\n",
        "# Completati codul pentru a face gradientii zero aici\n",
        "optimizer.zero_grad()\n",
        "\n",
        "# Definiti functia cost pentru pentru regressie\n",
        "loss_fn = nn.CrossEntropyLoss()"
      ],
      "execution_count": 0,
      "outputs": []
    },
    {
      "cell_type": "code",
      "metadata": {
        "id": "ObN5VQ_Qe1wV",
        "colab_type": "code",
        "colab": {}
      },
      "source": [
        ""
      ],
      "execution_count": 0,
      "outputs": []
    },
    {
      "cell_type": "markdown",
      "metadata": {
        "id": "GAnUsWYWodb4",
        "colab_type": "text"
      },
      "source": [
        "## Definirea functiei de antrenare"
      ]
    },
    {
      "cell_type": "code",
      "metadata": {
        "id": "K9MTYanoMZ8H",
        "colab_type": "code",
        "colab": {}
      },
      "source": [
        "def bb_intersection_over_union(boxA, boxB):\n",
        "\t# determine the (x, y)-coordinates of the intersection rectangle\n",
        "\txA = max(boxA[0], boxB[0])\n",
        "\tyA = max(boxA[1], boxB[1])\n",
        "\txB = min(boxA[2], boxB[2])\n",
        "\tyB = min(boxA[3], boxB[3])\n",
        "\t# compute the area of intersection rectangle\n",
        "\tinterArea = max(0, xB - xA + 1) * max(0, yB - yA + 1)\n",
        "\t# compute the area of both the prediction and ground-truth\n",
        "\t# rectangles\n",
        "\tboxAArea = (boxA[2] - boxA[0] + 1) * (boxA[3] - boxA[1] + 1)\n",
        "\tboxBArea = (boxB[2] - boxB[0] + 1) * (boxB[3] - boxB[1] + 1)\n",
        "\t# compute the intersection over union by taking the intersection\n",
        "\t# area and dividing it by the sum of prediction + ground-truth\n",
        "\t# areas - the interesection area\n",
        "\tiou = interArea / float(boxAArea + boxBArea - interArea)\n",
        "\t# return the intersection over union value\n",
        "\treturn iou\n",
        "\n",
        "def train_fn(epochs: int, train_loader: data.DataLoader, test_loader: data.DataLoader, \n",
        "             net: nn.Module, loss_fn: nn.Module, optimizer: optim.Optimizer):\n",
        "  # Iteram prin numarul de epoci\n",
        "  for e in range(epochs):\n",
        "    # Iteram prin fiecare exemplu din dataset\n",
        "    for images, coords in train_loader:\n",
        "\n",
        "      # Aplicam reteaua neurala pe imaginile de intrare\n",
        "      out = net(images)\n",
        "      # Aplicam functia cost pe iesirea retelei neurale si pe adnotarile imaginilor \n",
        "      loss = loss_fn(out, labels)\n",
        "      # Aplicam algoritmul de back-propagation\n",
        "      loss.backward()\n",
        "      # Facem pasul de optimizare, pentru a aplica gradientii pe parametrii retelei\n",
        "      optimizer.step()\n",
        "      # Apelam functia zero_grad() pentru a uita gradientii de la iteratie curenta\n",
        "      optimizer.zero_grad()\n",
        "    \n",
        "    print(\"Loss-ul la finalul epocii {} are valoarea {}\".format(e, loss.item()))\n",
        "\n",
        "    # Caluculul acuratetii\n",
        "    count = len(test_loader)\n",
        "    IOU_list = []\n",
        "\n",
        "    for test_image, box_gt in test_loader:\n",
        "      box_pred = torch.argmax(net(test_image))\n",
        "      IOU_list.append(bb_intersection_over_union(box_pred,box_gt))\n",
        "\n",
        "    print(\"Acuratetea la finalul epocii {} este {:.2f}%\".format(e, (correct / count) * batch_size))"
      ],
      "execution_count": 0,
      "outputs": []
    },
    {
      "cell_type": "markdown",
      "metadata": {
        "id": "OWvb00A-TkJq",
        "colab_type": "text"
      },
      "source": [
        "## Antrenarea\n",
        "\n",
        "### Cerinte\n",
        "  * Antrenati prima retea\n",
        "  * Modificati celula de mai sus pentru a antrena LeNet si rulati din nou celula\n",
        "  * Antrenati reteaua LeNet"
      ]
    },
    {
      "cell_type": "code",
      "metadata": {
        "id": "ZqUwOWmDMpqQ",
        "colab_type": "code",
        "colab": {}
      },
      "source": [
        "train_fn(epochs, train_loader, test_loader, network, loss_fn, optimizer)"
      ],
      "execution_count": 0,
      "outputs": []
    },
    {
      "cell_type": "markdown",
      "metadata": {
        "id": "PMOQhLY5Folz",
        "colab_type": "text"
      },
      "source": [
        "## Augmentare date\n",
        "\n",
        "O metoda foarte buna pentru a creste performanta modelului este augmentarea setului de date. Aceste augmentari trebuie sa tina cont de natura taskului si de natura etichetelor. In cazul unui Flip Horizontal, stanga devinde dreapta.\n",
        "\n",
        "### Cerinta\n",
        "\n",
        "Modificati dataloaderul precedent astfel incat sa produca, cu o probabilitate de 0.5, date asupra carora s-a aplicat Flip Horizontal. Reantrenati modelul si observati daca apare o schimbare in performanta."
      ]
    },
    {
      "cell_type": "code",
      "metadata": {
        "id": "9TGaEYXfHK4m",
        "colab_type": "code",
        "colab": {}
      },
      "source": [
        "import torch as t\n",
        "from PIL import Image, ImageOps\n",
        "import numpy as np\n",
        "from torch.utils.data import Dataset, DataLoader\n",
        "from torchvision.transforms.functional import to_tensor, normalize\n",
        "# import random\n",
        "# random.seed(42)\n",
        "\n",
        "import matplotlib.pyplot as plt\n",
        "import matplotlib.patches as patches\n",
        "import random\n",
        "\n",
        "class CatsDataset(Dataset):\n",
        "    def __init__(self, dataset_lines, width=128, height=128):\n",
        "        \"\"\"\n",
        "        Args:\n",
        "            dataset_lines (array): array of strings of form \"{image_path}|{rectangle_coordinates}\".\n",
        "            width (int): target image width.\n",
        "            height (int): target image height.\n",
        "        \"\"\"\n",
        "        self.imgs_paths = [ln.split(\"|\")[0] + \".JPEG\" for ln in dataset_lines]\n",
        "        self.points = [list(map(int, ln.split(\"|\")[-1].split(\" \")))\n",
        "                        for ln in dataset_lines]\n",
        "        self.img_size = (width, height)\n",
        "\n",
        "    def __len__(self):\n",
        "        return len(self.imgs_paths)\n",
        "\n",
        "    def __getitem__(self, idx): # flip flip\n",
        "        img = Image.open(self.imgs_paths[idx])\n",
        "        \n",
        "        # should we want random flip:\n",
        "        # flip = random.choice([0,1])\n",
        "        # if flip == 1:\n",
        "\n",
        "        # 0.5 probability of flip\n",
        "        if idx % 2 == 0\n",
        "          img = ImageOps.flip(img)\n",
        "\n",
        "        original_width, original_height = img.size\n",
        "\n",
        "        img = img.resize(self.img_size)\n",
        "        img = np.array(img)\n",
        "\n",
        "        if len(img.shape) == 2:\n",
        "          img = np.expand_dims(img, axis=2)\n",
        "          img = np.repeat(img, 3, axis=2)\n",
        "\n",
        "        x1, y1, x2, y2 = self.points[idx]\n",
        "\n",
        "        x1 = x1 / original_width * self.img_size[0]\n",
        "        x2 = x2 / original_width * self.img_size[0]\n",
        "        y1 = y1 / original_height * self.img_size[1]\n",
        "        y2 = y2 / original_height * self.img_size[1]\n",
        "\n",
        "        coordinates = np.array([x1, y1, x2, y2])\n",
        "\n",
        "        return img, coordinates\n",
        "\n"
      ],
      "execution_count": 0,
      "outputs": []
    }
  ]
}